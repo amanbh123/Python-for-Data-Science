{
 "cells": [
  {
   "cell_type": "markdown",
   "metadata": {},
   "source": [
    "## Data Scrapping using Beautiful Soup\n",
    "- Import Beautiful Soap\n",
    "- Make a Get request to fetch Page Data\n",
    "- Parse HTML\n",
    "- Filter relevant parts"
   ]
  },
  {
   "cell_type": "markdown",
   "metadata": {},
   "source": [
    "### Installation\n",
    "pip install bs4"
   ]
  },
  {
   "cell_type": "code",
   "execution_count": 1,
   "metadata": {},
   "outputs": [],
   "source": [
    "from urllib.request import urlopen"
   ]
  },
  {
   "cell_type": "code",
   "execution_count": 2,
   "metadata": {},
   "outputs": [],
   "source": [
    "android_url = \"https://en.wikipedia.org/wiki/Android_version_history\""
   ]
  },
  {
   "cell_type": "code",
   "execution_count": 3,
   "metadata": {},
   "outputs": [],
   "source": [
    "android_data = urlopen(android_url)"
   ]
  },
  {
   "cell_type": "code",
   "execution_count": 4,
   "metadata": {},
   "outputs": [
    {
     "name": "stdout",
     "output_type": "stream",
     "text": [
      "<class 'http.client.HTTPResponse'>\n"
     ]
    }
   ],
   "source": [
    "print(type(android_data))"
   ]
  },
  {
   "cell_type": "code",
   "execution_count": 5,
   "metadata": {},
   "outputs": [],
   "source": [
    "android_html = android_data.read()\n",
    "# print(android_html)"
   ]
  },
  {
   "cell_type": "code",
   "execution_count": 7,
   "metadata": {},
   "outputs": [],
   "source": [
    "android_data.close()"
   ]
  },
  {
   "cell_type": "markdown",
   "metadata": {},
   "source": [
    "## Parsing Data"
   ]
  },
  {
   "cell_type": "code",
   "execution_count": 8,
   "metadata": {},
   "outputs": [],
   "source": [
    "from bs4 import BeautifulSoup as soup"
   ]
  },
  {
   "cell_type": "code",
   "execution_count": 9,
   "metadata": {},
   "outputs": [],
   "source": [
    "android_soup = soup(android_html, 'html.parser')\n",
    "# print(android_soup)"
   ]
  },
  {
   "cell_type": "code",
   "execution_count": 11,
   "metadata": {},
   "outputs": [
    {
     "name": "stdout",
     "output_type": "stream",
     "text": [
      "<class 'bs4.BeautifulSoup'>\n"
     ]
    }
   ],
   "source": [
    "print(type(android_soup))"
   ]
  },
  {
   "cell_type": "code",
   "execution_count": 12,
   "metadata": {},
   "outputs": [
    {
     "data": {
      "text/plain": [
       "<h1 class=\"firstHeading\" id=\"firstHeading\" lang=\"en\">Android version history</h1>"
      ]
     },
     "execution_count": 12,
     "metadata": {},
     "output_type": "execute_result"
    }
   ],
   "source": [
    "android_soup.h1"
   ]
  },
  {
   "cell_type": "code",
   "execution_count": 13,
   "metadata": {},
   "outputs": [
    {
     "data": {
      "text/plain": [
       "[<h1 class=\"firstHeading\" id=\"firstHeading\" lang=\"en\">Android version history</h1>]"
      ]
     },
     "execution_count": 13,
     "metadata": {},
     "output_type": "execute_result"
    }
   ],
   "source": [
    "android_soup.findAll('h1', {})"
   ]
  },
  {
   "cell_type": "code",
   "execution_count": 14,
   "metadata": {},
   "outputs": [],
   "source": [
    "tables = android_soup.findAll('table', {'class':'wikitable'})"
   ]
  },
  {
   "cell_type": "code",
   "execution_count": 15,
   "metadata": {},
   "outputs": [
    {
     "name": "stdout",
     "output_type": "stream",
     "text": [
      "31\n"
     ]
    }
   ],
   "source": [
    "print(len(tables))"
   ]
  },
  {
   "cell_type": "code",
   "execution_count": 16,
   "metadata": {},
   "outputs": [
    {
     "name": "stdout",
     "output_type": "stream",
     "text": [
      "<table class=\"wikitable\">\n",
      "<tbody><tr>\n",
      "<th>Name\n",
      "</th>\n",
      "<th>Version number(s)\n",
      "</th>\n",
      "<th>Initial stable<br/>release date\n",
      "</th>\n",
      "<th>Supported (security fixes)\n",
      "</th>\n",
      "<th>API level\n",
      "</th>\n",
      "<th>References\n",
      "</th></tr>\n",
      "<tr>\n",
      "<td rowspan=\"2\">No official codename\n",
      "</td>\n",
      "<td>1.0\n",
      "</td>\n",
      "<td>September 23, 2008\n",
      "</td>\n",
      "<td class=\"table-no\" style=\"background:#F99;vertical-align:middle;text-align:center;\">No\n",
      "</td>\n",
      "<td>1\n",
      "</td>\n",
      "<td><sup class=\"reference\" id=\"cite_ref-unofficial_and_official_codenames_9-1\"><a href=\"#cite_note-unofficial_and_official_codenames-9\">[9]</a></sup>\n",
      "</td></tr>\n",
      "<tr>\n",
      "<td>1.1\n",
      "</td>\n",
      "<td>February 9, 2009\n",
      "</td>\n",
      "<td class=\"table-no\" style=\"background:#F99;vertical-align:middle;text-align:center;\">No\n",
      "</td>\n",
      "<td>2\n",
      "</td>\n",
      "<td><sup class=\"reference\" id=\"cite_ref-unofficial_and_official_codenames_9-2\"><a href=\"#cite_note-unofficial_and_official_codenames-9\">[9]</a></sup><sup class=\"reference\" id=\"cite_ref-14\"><a href=\"#cite_note-14\">[14]</a></sup>\n",
      "</td></tr>\n",
      "<tr>\n",
      "<td><a href=\"/wiki/Android_Cupcake\" title=\"Android Cupcake\">Cupcake</a>\n",
      "</td>\n",
      "<td>1.5\n",
      "</td>\n",
      "<td>April 27, 2009\n",
      "</td>\n",
      "<td class=\"table-no\" style=\"background:#F99;vertical-align:middle;text-align:center;\">No\n",
      "</td>\n",
      "<td>3\n",
      "</td>\n",
      "<td><sup class=\"reference\" id=\"cite_ref-15\"><a href=\"#cite_note-15\">[15]</a></sup>\n",
      "</td></tr>\n",
      "<tr>\n",
      "<td><a href=\"/wiki/Android_Donut\" title=\"Android Donut\">Donut</a>\n",
      "</td>\n",
      "<td>1.6\n",
      "</td>\n",
      "<td>September 15, 2009\n",
      "</td>\n",
      "<td class=\"table-no\" style=\"background:#F99;vertical-align:middle;text-align:center;\">No\n",
      "</td>\n",
      "<td>4\n",
      "</td>\n",
      "<td><sup class=\"reference\" id=\"cite_ref-16\"><a href=\"#cite_note-16\">[16]</a></sup>\n",
      "</td></tr>\n",
      "<tr>\n",
      "<td><a href=\"/wiki/Android_Eclair\" title=\"Android Eclair\">Eclair</a>\n",
      "</td>\n",
      "<td>2.0 – 2.1\n",
      "</td>\n",
      "<td>October 26, 2009\n",
      "</td>\n",
      "<td class=\"table-no\" style=\"background:#F99;vertical-align:middle;text-align:center;\">No\n",
      "</td>\n",
      "<td>5 – 7\n",
      "</td>\n",
      "<td><sup class=\"reference\" id=\"cite_ref-17\"><a href=\"#cite_note-17\">[17]</a></sup>\n",
      "</td></tr>\n",
      "<tr>\n",
      "<td><a href=\"/wiki/Android_Froyo\" title=\"Android Froyo\">Froyo</a>\n",
      "</td>\n",
      "<td>2.2 – 2.2.3\n",
      "</td>\n",
      "<td>May 20, 2010\n",
      "</td>\n",
      "<td class=\"table-no\" style=\"background:#F99;vertical-align:middle;text-align:center;\">No\n",
      "</td>\n",
      "<td>8\n",
      "</td>\n",
      "<td><sup class=\"reference\" id=\"cite_ref-18\"><a href=\"#cite_note-18\">[18]</a></sup>\n",
      "</td></tr>\n",
      "<tr>\n",
      "<td><a href=\"/wiki/Android_Gingerbread\" title=\"Android Gingerbread\">Gingerbread</a>\n",
      "</td>\n",
      "<td>2.3 – 2.3.7\n",
      "</td>\n",
      "<td>December 6, 2010\n",
      "</td>\n",
      "<td class=\"table-no\" style=\"background:#F99;vertical-align:middle;text-align:center;\">No\n",
      "</td>\n",
      "<td>9 – 10\n",
      "</td>\n",
      "<td><sup class=\"reference\" id=\"cite_ref-19\"><a href=\"#cite_note-19\">[19]</a></sup>\n",
      "</td></tr>\n",
      "<tr>\n",
      "<td><a href=\"/wiki/Android_Honeycomb\" title=\"Android Honeycomb\">Honeycomb</a>\n",
      "</td>\n",
      "<td>3.0 – 3.2.6\n",
      "</td>\n",
      "<td>February 22, 2011\n",
      "</td>\n",
      "<td class=\"table-no\" style=\"background:#F99;vertical-align:middle;text-align:center;\">No\n",
      "</td>\n",
      "<td>11 – 13\n",
      "</td>\n",
      "<td><sup class=\"reference\" id=\"cite_ref-20\"><a href=\"#cite_note-20\">[20]</a></sup>\n",
      "</td></tr>\n",
      "<tr>\n",
      "<td><a href=\"/wiki/Android_Ice_Cream_Sandwich\" title=\"Android Ice Cream Sandwich\">Ice Cream Sandwich</a>\n",
      "</td>\n",
      "<td>4.0 – 4.0.4\n",
      "</td>\n",
      "<td>October 18, 2011\n",
      "</td>\n",
      "<td class=\"table-no\" style=\"background:#F99;vertical-align:middle;text-align:center;\">No\n",
      "</td>\n",
      "<td>14 – 15\n",
      "</td>\n",
      "<td><sup class=\"reference\" id=\"cite_ref-21\"><a href=\"#cite_note-21\">[21]</a></sup>\n",
      "</td></tr>\n",
      "<tr>\n",
      "<td><a href=\"/wiki/Android_Jelly_Bean\" title=\"Android Jelly Bean\">Jelly Bean</a>\n",
      "</td>\n",
      "<td>4.1 – 4.3.1\n",
      "</td>\n",
      "<td>July 9, 2012\n",
      "</td>\n",
      "<td class=\"table-no\" style=\"background:#F99;vertical-align:middle;text-align:center;\">No\n",
      "</td>\n",
      "<td>16 – 18\n",
      "</td>\n",
      "<td><sup class=\"reference\" id=\"cite_ref-22\"><a href=\"#cite_note-22\">[22]</a></sup>\n",
      "</td></tr>\n",
      "<tr>\n",
      "<td><a href=\"/wiki/Android_KitKat\" title=\"Android KitKat\">KitKat</a>\n",
      "</td>\n",
      "<td>4.4 – 4.4.4\n",
      "</td>\n",
      "<td>October 31, 2013\n",
      "</td>\n",
      "<td class=\"table-no\" style=\"background:#F99;vertical-align:middle;text-align:center;\">No\n",
      "</td>\n",
      "<td>19 – 20\n",
      "</td>\n",
      "<td><sup class=\"reference\" id=\"cite_ref-23\"><a href=\"#cite_note-23\">[23]</a></sup>\n",
      "</td></tr>\n",
      "<tr>\n",
      "<td><a href=\"/wiki/Android_Lollipop\" title=\"Android Lollipop\">Lollipop</a>\n",
      "</td>\n",
      "<td>5.0 – 5.1.1\n",
      "</td>\n",
      "<td>November 12, 2014\n",
      "</td>\n",
      "<td class=\"table-no\" style=\"background:#F99;vertical-align:middle;text-align:center;\">No\n",
      "</td>\n",
      "<td>21 – 22\n",
      "</td>\n",
      "<td><sup class=\"reference\" id=\"cite_ref-24\"><a href=\"#cite_note-24\">[24]</a></sup>\n",
      "</td></tr>\n",
      "<tr>\n",
      "<td><a href=\"/wiki/Android_Marshmallow\" title=\"Android Marshmallow\">Marshmallow</a>\n",
      "</td>\n",
      "<td>6.0 – 6.0.1\n",
      "</td>\n",
      "<td>October 5, 2015\n",
      "</td>\n",
      "<td class=\"table-no\" style=\"background:#F99;vertical-align:middle;text-align:center;\">No\n",
      "</td>\n",
      "<td>23\n",
      "</td>\n",
      "<td><sup class=\"reference\" id=\"cite_ref-25\"><a href=\"#cite_note-25\">[25]</a></sup>\n",
      "</td></tr>\n",
      "<tr>\n",
      "<td><a href=\"/wiki/Android_Nougat\" title=\"Android Nougat\">Nougat</a>\n",
      "</td>\n",
      "<td>7.0 – 7.1.2\n",
      "</td>\n",
      "<td>August 22, 2016\n",
      "</td>\n",
      "<td class=\"table-no\" style=\"background:#F99;vertical-align:middle;text-align:center;\">No\n",
      "</td>\n",
      "<td>24 – 25\n",
      "</td>\n",
      "<td><sup class=\"reference\" id=\"cite_ref-26\"><a href=\"#cite_note-26\">[26]</a></sup><sup class=\"reference\" id=\"cite_ref-27\"><a href=\"#cite_note-27\">[27]</a></sup><sup class=\"reference\" id=\"cite_ref-28\"><a href=\"#cite_note-28\">[28]</a></sup><sup class=\"reference\" id=\"cite_ref-29\"><a href=\"#cite_note-29\">[29]</a></sup>\n",
      "</td></tr>\n",
      "<tr>\n",
      "<td><a href=\"/wiki/Android_Oreo\" title=\"Android Oreo\">Oreo</a>\n",
      "</td>\n",
      "<td>8.0 – 8.1\n",
      "</td>\n",
      "<td>August 21, 2017\n",
      "</td>\n",
      "<td class=\"table-yes\" style=\"background:#9F9;vertical-align:middle;text-align:center;\">Yes\n",
      "</td>\n",
      "<td>26 – 27\n",
      "</td>\n",
      "<td><sup class=\"reference\" id=\"cite_ref-30\"><a href=\"#cite_note-30\">[30]</a></sup>\n",
      "</td></tr>\n",
      "<tr>\n",
      "<td><a href=\"/wiki/Android_Pie\" title=\"Android Pie\">Pie</a>\n",
      "</td>\n",
      "<td>9\n",
      "</td>\n",
      "<td>August 6, 2018\n",
      "</td>\n",
      "<td class=\"table-yes\" style=\"background:#9F9;vertical-align:middle;text-align:center;\">Yes\n",
      "</td>\n",
      "<td>28\n",
      "</td>\n",
      "<td><sup class=\"reference\" id=\"cite_ref-31\"><a href=\"#cite_note-31\">[31]</a></sup>\n",
      "</td></tr>\n",
      "<tr>\n",
      "<td><a href=\"/wiki/Android_10\" title=\"Android 10\">Android 10</a>\n",
      "</td>\n",
      "<td>10\n",
      "</td>\n",
      "<td>September 3, 2019\n",
      "</td>\n",
      "<td class=\"table-yes\" style=\"background:#9F9;vertical-align:middle;text-align:center;\">Yes\n",
      "</td>\n",
      "<td>29\n",
      "</td>\n",
      "<td><sup class=\"reference\" id=\"cite_ref-32\"><a href=\"#cite_note-32\">[32]</a></sup>\n",
      "</td></tr>\n",
      "<tr>\n",
      "<td><a href=\"/wiki/Android_11\" title=\"Android 11\">Android 11</a>\n",
      "</td>\n",
      "<td>11\n",
      "</td>\n",
      "<td>September 8, 2020\n",
      "</td>\n",
      "<td class=\"table-yes\" style=\"background:#9F9;vertical-align:middle;text-align:center;\">Yes\n",
      "</td>\n",
      "<td>30\n",
      "</td>\n",
      "<td><sup class=\"reference\" id=\"cite_ref-33\"><a href=\"#cite_note-33\">[33]</a></sup>\n",
      "</td></tr></tbody></table>\n"
     ]
    }
   ],
   "source": [
    "android_table = tables[0]\n",
    "# print(android_table)"
   ]
  },
  {
   "cell_type": "markdown",
   "metadata": {},
   "source": [
    "## Extracting Useful Information\n",
    "- Remove undesired tag\n",
    "- Extract table header & data"
   ]
  },
  {
   "cell_type": "code",
   "execution_count": 17,
   "metadata": {},
   "outputs": [
    {
     "name": "stdout",
     "output_type": "stream",
     "text": [
      "6\n",
      "[<th>Name\n",
      "</th>, <th>Version number(s)\n",
      "</th>, <th>Initial stable<br/>release date\n",
      "</th>, <th>Supported (security fixes)\n",
      "</th>, <th>API level\n",
      "</th>, <th>References\n",
      "</th>]\n"
     ]
    }
   ],
   "source": [
    "headers = android_table.findAll('th', {})\n",
    "print(len(headers))\n",
    "print(headers)"
   ]
  },
  {
   "cell_type": "code",
   "execution_count": 18,
   "metadata": {},
   "outputs": [
    {
     "name": "stdout",
     "output_type": "stream",
     "text": [
      "Name\n",
      "\n"
     ]
    }
   ],
   "source": [
    "print(headers[0].text)"
   ]
  },
  {
   "cell_type": "code",
   "execution_count": 19,
   "metadata": {},
   "outputs": [
    {
     "name": "stdout",
     "output_type": "stream",
     "text": [
      "['Name', 'Version number(s)', 'Initial stable release date', 'Supported (security fixes)', 'API level', 'References']\n"
     ]
    }
   ],
   "source": [
    "column_titles = [ct.text[:-1] for ct in headers]\n",
    "column_titles[2] = 'Initial stable release date'\n",
    "print(column_titles)"
   ]
  },
  {
   "cell_type": "code",
   "execution_count": 20,
   "metadata": {},
   "outputs": [
    {
     "data": {
      "text/plain": [
       "list"
      ]
     },
     "execution_count": 20,
     "metadata": {},
     "output_type": "execute_result"
    }
   ],
   "source": [
    "type(column_titles)"
   ]
  },
  {
   "cell_type": "code",
   "execution_count": 21,
   "metadata": {},
   "outputs": [
    {
     "name": "stdout",
     "output_type": "stream",
     "text": [
      "18\n"
     ]
    }
   ],
   "source": [
    "rows_data = android_table.findAll('tr', {})[1:]\n",
    "print(len(rows_data))"
   ]
  },
  {
   "cell_type": "code",
   "execution_count": 22,
   "metadata": {},
   "outputs": [
    {
     "name": "stdout",
     "output_type": "stream",
     "text": [
      "<tr>\n",
      "<td rowspan=\"2\">No official codename\n",
      "</td>\n",
      "<td>1.0\n",
      "</td>\n",
      "<td>September 23, 2008\n",
      "</td>\n",
      "<td class=\"table-no\" style=\"background:#F99;vertical-align:middle;text-align:center;\">No\n",
      "</td>\n",
      "<td>1\n",
      "</td>\n",
      "<td><sup class=\"reference\" id=\"cite_ref-unofficial_and_official_codenames_9-1\"><a href=\"#cite_note-unofficial_and_official_codenames-9\">[9]</a></sup>\n",
      "</td></tr>\n"
     ]
    }
   ],
   "source": [
    "first_row = rows_data[0]\n",
    "print(first_row)"
   ]
  },
  {
   "cell_type": "code",
   "execution_count": 23,
   "metadata": {},
   "outputs": [
    {
     "name": "stdout",
     "output_type": "stream",
     "text": [
      "No official codename\n",
      "1.0\n",
      "September 23, 2008\n",
      "No\n",
      "1\n",
      "[9]\n"
     ]
    }
   ],
   "source": [
    "first_row = rows_data[0].findAll('td', {})\n",
    "for i in first_row:\n",
    "    print(i.text[:-1])"
   ]
  },
  {
   "cell_type": "code",
   "execution_count": 24,
   "metadata": {},
   "outputs": [
    {
     "name": "stdout",
     "output_type": "stream",
     "text": [
      "1.1\n",
      "February 9, 2009\n",
      "No\n",
      "2\n",
      "[9][14]\n"
     ]
    }
   ],
   "source": [
    "second_row = rows_data[1].findAll('td', {})\n",
    "for i in second_row:\n",
    "    print(i.text[:-1])"
   ]
  },
  {
   "cell_type": "code",
   "execution_count": 25,
   "metadata": {},
   "outputs": [],
   "source": [
    "table_rows = []\n",
    "for count, row in enumerate(rows_data):\n",
    "    current_row = []\n",
    "    if count == 1:\n",
    "        current_row.append(\"No official codename\")\n",
    "    row_data = row.findAll('td', {})\n",
    "    for idx, data in enumerate(row_data):\n",
    "        current_row.append(data.text[:-1])\n",
    "    table_rows.append(current_row)"
   ]
  },
  {
   "cell_type": "code",
   "execution_count": 26,
   "metadata": {},
   "outputs": [
    {
     "name": "stdout",
     "output_type": "stream",
     "text": [
      "[['No official codename', '1.0', 'September 23, 2008', 'No', '1', '[9]'], ['No official codename', '1.1', 'February 9, 2009', 'No', '2', '[9][14]'], ['Cupcake', '1.5', 'April 27, 2009', 'No', '3', '[15]'], ['Donut', '1.6', 'September 15, 2009', 'No', '4', '[16]'], ['Eclair', '2.0 – 2.1', 'October 26, 2009', 'No', '5 – 7', '[17]'], ['Froyo', '2.2 – 2.2.3', 'May 20, 2010', 'No', '8', '[18]'], ['Gingerbread', '2.3 – 2.3.7', 'December 6, 2010', 'No', '9 – 10', '[19]'], ['Honeycomb', '3.0 – 3.2.6', 'February 22, 2011', 'No', '11 – 13', '[20]'], ['Ice Cream Sandwich', '4.0 – 4.0.4', 'October 18, 2011', 'No', '14 – 15', '[21]'], ['Jelly Bean', '4.1 – 4.3.1', 'July 9, 2012', 'No', '16 – 18', '[22]'], ['KitKat', '4.4 – 4.4.4', 'October 31, 2013', 'No', '19 – 20', '[23]'], ['Lollipop', '5.0 – 5.1.1', 'November 12, 2014', 'No', '21 – 22', '[24]'], ['Marshmallow', '6.0 – 6.0.1', 'October 5, 2015', 'No', '23', '[25]'], ['Nougat', '7.0 – 7.1.2', 'August 22, 2016', 'No', '24 – 25', '[26][27][28][29]'], ['Oreo', '8.0 – 8.1', 'August 21, 2017', 'Yes', '26 – 27', '[30]'], ['Pie', '9', 'August 6, 2018', 'Yes', '28', '[31]'], ['Android 10', '10', 'September 3, 2019', 'Yes', '29', '[32]'], ['Android 11', '11', 'September 8, 2020', 'Yes', '30', '[33]']]\n"
     ]
    }
   ],
   "source": [
    "print(table_rows)"
   ]
  },
  {
   "cell_type": "markdown",
   "metadata": {},
   "source": [
    "## Writing & Reading CSV Files\n",
    "- CSV stands for Comma Separated File"
   ]
  },
  {
   "cell_type": "code",
   "execution_count": 27,
   "metadata": {},
   "outputs": [],
   "source": [
    "filename = 'android_version_history.csv'\n",
    "with open(filename, 'w', encoding = 'utf-8') as f:\n",
    "    # Write the header\n",
    "    header_string = ','.join(column_titles)\n",
    "    header_string += '\\n'\n",
    "    f.write(header_string)\n",
    "    \n",
    "    for row in table_rows:\n",
    "        row_string = \"\"\n",
    "        for w in row:\n",
    "            w = w.replace(',','')\n",
    "            row_string += w + ','\n",
    "        row_string = row_string[:-1]\n",
    "        row_string += '\\n'\n",
    "        f.write(row_string)"
   ]
  },
  {
   "cell_type": "markdown",
   "metadata": {},
   "source": [
    "## Data Cleaning\n",
    "- Removing unwanted commas & symbols\n",
    "- undesired information"
   ]
  },
  {
   "cell_type": "code",
   "execution_count": 28,
   "metadata": {},
   "outputs": [],
   "source": [
    "import pandas as pd"
   ]
  },
  {
   "cell_type": "code",
   "execution_count": 29,
   "metadata": {},
   "outputs": [],
   "source": [
    "df = pd.read_csv('android_version_history.csv')"
   ]
  },
  {
   "cell_type": "code",
   "execution_count": 30,
   "metadata": {},
   "outputs": [
    {
     "data": {
      "text/html": [
       "<div>\n",
       "<style scoped>\n",
       "    .dataframe tbody tr th:only-of-type {\n",
       "        vertical-align: middle;\n",
       "    }\n",
       "\n",
       "    .dataframe tbody tr th {\n",
       "        vertical-align: top;\n",
       "    }\n",
       "\n",
       "    .dataframe thead th {\n",
       "        text-align: right;\n",
       "    }\n",
       "</style>\n",
       "<table border=\"1\" class=\"dataframe\">\n",
       "  <thead>\n",
       "    <tr style=\"text-align: right;\">\n",
       "      <th></th>\n",
       "      <th>Name</th>\n",
       "      <th>Version number(s)</th>\n",
       "      <th>Initial stable release date</th>\n",
       "      <th>Supported (security fixes)</th>\n",
       "      <th>API level</th>\n",
       "      <th>References</th>\n",
       "    </tr>\n",
       "  </thead>\n",
       "  <tbody>\n",
       "    <tr>\n",
       "      <th>0</th>\n",
       "      <td>No official codename</td>\n",
       "      <td>1.0</td>\n",
       "      <td>September 23 2008</td>\n",
       "      <td>No</td>\n",
       "      <td>1</td>\n",
       "      <td>[9]</td>\n",
       "    </tr>\n",
       "    <tr>\n",
       "      <th>1</th>\n",
       "      <td>No official codename</td>\n",
       "      <td>1.1</td>\n",
       "      <td>February 9 2009</td>\n",
       "      <td>No</td>\n",
       "      <td>2</td>\n",
       "      <td>[9][14]</td>\n",
       "    </tr>\n",
       "    <tr>\n",
       "      <th>2</th>\n",
       "      <td>Cupcake</td>\n",
       "      <td>1.5</td>\n",
       "      <td>April 27 2009</td>\n",
       "      <td>No</td>\n",
       "      <td>3</td>\n",
       "      <td>[15]</td>\n",
       "    </tr>\n",
       "    <tr>\n",
       "      <th>3</th>\n",
       "      <td>Donut</td>\n",
       "      <td>1.6</td>\n",
       "      <td>September 15 2009</td>\n",
       "      <td>No</td>\n",
       "      <td>4</td>\n",
       "      <td>[16]</td>\n",
       "    </tr>\n",
       "    <tr>\n",
       "      <th>4</th>\n",
       "      <td>Eclair</td>\n",
       "      <td>2.0 – 2.1</td>\n",
       "      <td>October 26 2009</td>\n",
       "      <td>No</td>\n",
       "      <td>5 – 7</td>\n",
       "      <td>[17]</td>\n",
       "    </tr>\n",
       "    <tr>\n",
       "      <th>5</th>\n",
       "      <td>Froyo</td>\n",
       "      <td>2.2 – 2.2.3</td>\n",
       "      <td>May 20 2010</td>\n",
       "      <td>No</td>\n",
       "      <td>8</td>\n",
       "      <td>[18]</td>\n",
       "    </tr>\n",
       "    <tr>\n",
       "      <th>6</th>\n",
       "      <td>Gingerbread</td>\n",
       "      <td>2.3 – 2.3.7</td>\n",
       "      <td>December 6 2010</td>\n",
       "      <td>No</td>\n",
       "      <td>9 – 10</td>\n",
       "      <td>[19]</td>\n",
       "    </tr>\n",
       "    <tr>\n",
       "      <th>7</th>\n",
       "      <td>Honeycomb</td>\n",
       "      <td>3.0 – 3.2.6</td>\n",
       "      <td>February 22 2011</td>\n",
       "      <td>No</td>\n",
       "      <td>11 – 13</td>\n",
       "      <td>[20]</td>\n",
       "    </tr>\n",
       "    <tr>\n",
       "      <th>8</th>\n",
       "      <td>Ice Cream Sandwich</td>\n",
       "      <td>4.0 – 4.0.4</td>\n",
       "      <td>October 18 2011</td>\n",
       "      <td>No</td>\n",
       "      <td>14 – 15</td>\n",
       "      <td>[21]</td>\n",
       "    </tr>\n",
       "    <tr>\n",
       "      <th>9</th>\n",
       "      <td>Jelly Bean</td>\n",
       "      <td>4.1 – 4.3.1</td>\n",
       "      <td>July 9 2012</td>\n",
       "      <td>No</td>\n",
       "      <td>16 – 18</td>\n",
       "      <td>[22]</td>\n",
       "    </tr>\n",
       "  </tbody>\n",
       "</table>\n",
       "</div>"
      ],
      "text/plain": [
       "                   Name Version number(s) Initial stable release date  \\\n",
       "0  No official codename               1.0           September 23 2008   \n",
       "1  No official codename               1.1             February 9 2009   \n",
       "2               Cupcake               1.5               April 27 2009   \n",
       "3                 Donut               1.6           September 15 2009   \n",
       "4                Eclair         2.0 – 2.1             October 26 2009   \n",
       "5                 Froyo       2.2 – 2.2.3                 May 20 2010   \n",
       "6           Gingerbread       2.3 – 2.3.7             December 6 2010   \n",
       "7             Honeycomb       3.0 – 3.2.6            February 22 2011   \n",
       "8    Ice Cream Sandwich       4.0 – 4.0.4             October 18 2011   \n",
       "9            Jelly Bean       4.1 – 4.3.1                 July 9 2012   \n",
       "\n",
       "  Supported (security fixes) API level References  \n",
       "0                         No         1        [9]  \n",
       "1                         No         2    [9][14]  \n",
       "2                         No         3       [15]  \n",
       "3                         No         4       [16]  \n",
       "4                         No     5 – 7       [17]  \n",
       "5                         No         8       [18]  \n",
       "6                         No    9 – 10       [19]  \n",
       "7                         No   11 – 13       [20]  \n",
       "8                         No   14 – 15       [21]  \n",
       "9                         No   16 – 18       [22]  "
      ]
     },
     "execution_count": 30,
     "metadata": {},
     "output_type": "execute_result"
    }
   ],
   "source": [
    "df.head(n=10)"
   ]
  },
  {
   "cell_type": "code",
   "execution_count": 31,
   "metadata": {},
   "outputs": [
    {
     "name": "stdout",
     "output_type": "stream",
     "text": [
      "1.0\n"
     ]
    }
   ],
   "source": [
    "print(df.iloc[0][1])"
   ]
  },
  {
   "cell_type": "code",
   "execution_count": 32,
   "metadata": {},
   "outputs": [
    {
     "name": "stdout",
     "output_type": "stream",
     "text": [
      "October 26 2009\n"
     ]
    }
   ],
   "source": [
    "print(df.iloc[4][2])"
   ]
  }
 ],
 "metadata": {
  "kernelspec": {
   "display_name": "Python 3",
   "language": "python",
   "name": "python3"
  },
  "language_info": {
   "codemirror_mode": {
    "name": "ipython",
    "version": 3
   },
   "file_extension": ".py",
   "mimetype": "text/x-python",
   "name": "python",
   "nbconvert_exporter": "python",
   "pygments_lexer": "ipython3",
   "version": "3.8.5"
  }
 },
 "nbformat": 4,
 "nbformat_minor": 4
}
