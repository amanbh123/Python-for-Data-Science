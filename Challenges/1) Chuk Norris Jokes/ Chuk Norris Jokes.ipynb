{
 "cells": [
  {
   "cell_type": "code",
   "execution_count": 1,
   "metadata": {},
   "outputs": [],
   "source": [
    "import requests"
   ]
  },
  {
   "cell_type": "code",
   "execution_count": 2,
   "metadata": {},
   "outputs": [],
   "source": [
    "chuk_url = \"http://api.icndb.com/jokes\""
   ]
  },
  {
   "cell_type": "code",
   "execution_count": 3,
   "metadata": {},
   "outputs": [
    {
     "name": "stdout",
     "output_type": "stream",
     "text": [
      "<Response [200]>\n"
     ]
    }
   ],
   "source": [
    "chuk_response = requests.get(chuk_url)\n",
    "print(chuk_response)"
   ]
  },
  {
   "cell_type": "code",
   "execution_count": 4,
   "metadata": {},
   "outputs": [
    {
     "name": "stdout",
     "output_type": "stream",
     "text": [
      "<class 'bytes'>\n"
     ]
    }
   ],
   "source": [
    "chuk_data = chuk_response.content\n",
    "print(type(chuk_data))\n",
    "# print(chuk_data)"
   ]
  },
  {
   "cell_type": "code",
   "execution_count": 5,
   "metadata": {},
   "outputs": [],
   "source": [
    "import json"
   ]
  },
  {
   "cell_type": "code",
   "execution_count": 6,
   "metadata": {},
   "outputs": [
    {
     "name": "stdout",
     "output_type": "stream",
     "text": [
      "<class 'dict'>\n"
     ]
    }
   ],
   "source": [
    "json_data = json.loads(chuk_data)\n",
    "print(type(json_data))\n",
    "# print(json_data)"
   ]
  },
  {
   "cell_type": "code",
   "execution_count": 7,
   "metadata": {},
   "outputs": [
    {
     "name": "stdout",
     "output_type": "stream",
     "text": [
      "type\n",
      "value\n"
     ]
    }
   ],
   "source": [
    "for i in json_data:\n",
    "    print(i)"
   ]
  },
  {
   "cell_type": "code",
   "execution_count": 8,
   "metadata": {},
   "outputs": [
    {
     "name": "stdout",
     "output_type": "stream",
     "text": [
      "<class 'list'>\n",
      "574\n"
     ]
    }
   ],
   "source": [
    "data = json_data[\"value\"]\n",
    "print(type(data))\n",
    "print(len(data))\n",
    "# print(data)"
   ]
  },
  {
   "cell_type": "code",
   "execution_count": 9,
   "metadata": {},
   "outputs": [],
   "source": [
    "headers = [\"id\", \"joke\"]"
   ]
  },
  {
   "cell_type": "code",
   "execution_count": 10,
   "metadata": {},
   "outputs": [
    {
     "name": "stdout",
     "output_type": "stream",
     "text": [
      "<class 'dict'>\n",
      "1 Chuck Norris uses ribbed condoms inside out, so he gets the pleasure.\n",
      "[1, 'Chuck Norris uses ribbed condoms inside out, so he gets the pleasure.']\n"
     ]
    }
   ],
   "source": [
    "# Cheking the first joke\n",
    "first_joke = data[0]\n",
    "print(type(first_joke))\n",
    "print(first_joke[\"id\"], first_joke[\"joke\"])\n",
    "a = []\n",
    "a.append(first_joke[\"id\"])\n",
    "a.append(first_joke[\"joke\"])\n",
    "print(a)"
   ]
  },
  {
   "cell_type": "code",
   "execution_count": 11,
   "metadata": {},
   "outputs": [],
   "source": [
    "table_rows = []\n",
    "for row in data:\n",
    "    column_row = []\n",
    "    for each in row.values():\n",
    "        column_row.append(str(each))\n",
    "    table_rows.append(column_row[:-1])"
   ]
  },
  {
   "cell_type": "code",
   "execution_count": 12,
   "metadata": {},
   "outputs": [],
   "source": [
    "# print(table_rows)"
   ]
  },
  {
   "cell_type": "code",
   "execution_count": 13,
   "metadata": {},
   "outputs": [],
   "source": [
    "with open(\"Chuk_Norris_Jokes.csv\", 'w', encoding = 'UTF-8') as file:\n",
    "    header_string = \",\".join(headers)\n",
    "    header_string += '\\n'\n",
    "    file.write(header_string)\n",
    "    \n",
    "    for row in table_rows:\n",
    "        row_string = '{},\"{}\"'.format(row[0], row[1])\n",
    "        row_string += '\\n'\n",
    "        file.write(row_string)"
   ]
  },
  {
   "cell_type": "code",
   "execution_count": 14,
   "metadata": {},
   "outputs": [],
   "source": [
    "import pandas as pd"
   ]
  },
  {
   "cell_type": "code",
   "execution_count": 15,
   "metadata": {},
   "outputs": [],
   "source": [
    "df = pd.read_csv(\"Chuk_Norris_Jokes.csv\")"
   ]
  },
  {
   "cell_type": "code",
   "execution_count": 16,
   "metadata": {},
   "outputs": [
    {
     "data": {
      "text/html": [
       "<div>\n",
       "<style scoped>\n",
       "    .dataframe tbody tr th:only-of-type {\n",
       "        vertical-align: middle;\n",
       "    }\n",
       "\n",
       "    .dataframe tbody tr th {\n",
       "        vertical-align: top;\n",
       "    }\n",
       "\n",
       "    .dataframe thead th {\n",
       "        text-align: right;\n",
       "    }\n",
       "</style>\n",
       "<table border=\"1\" class=\"dataframe\">\n",
       "  <thead>\n",
       "    <tr style=\"text-align: right;\">\n",
       "      <th></th>\n",
       "      <th>id</th>\n",
       "      <th>joke</th>\n",
       "    </tr>\n",
       "  </thead>\n",
       "  <tbody>\n",
       "    <tr>\n",
       "      <th>0</th>\n",
       "      <td>1</td>\n",
       "      <td>Chuck Norris uses ribbed condoms inside out, s...</td>\n",
       "    </tr>\n",
       "    <tr>\n",
       "      <th>1</th>\n",
       "      <td>2</td>\n",
       "      <td>MacGyver can build an airplane out of gum and ...</td>\n",
       "    </tr>\n",
       "    <tr>\n",
       "      <th>2</th>\n",
       "      <td>3</td>\n",
       "      <td>Chuck Norris doesn't read books. He stares the...</td>\n",
       "    </tr>\n",
       "    <tr>\n",
       "      <th>3</th>\n",
       "      <td>4</td>\n",
       "      <td>If you ask Chuck Norris what time it is, he al...</td>\n",
       "    </tr>\n",
       "    <tr>\n",
       "      <th>4</th>\n",
       "      <td>5</td>\n",
       "      <td>Chuck Norris lost his virginity before his dad...</td>\n",
       "    </tr>\n",
       "    <tr>\n",
       "      <th>5</th>\n",
       "      <td>6</td>\n",
       "      <td>Since 1940, the year Chuck Norris was born, ro...</td>\n",
       "    </tr>\n",
       "    <tr>\n",
       "      <th>6</th>\n",
       "      <td>12</td>\n",
       "      <td>Chuck Norris sheds his skin twice a year.</td>\n",
       "    </tr>\n",
       "    <tr>\n",
       "      <th>7</th>\n",
       "      <td>13</td>\n",
       "      <td>Chuck Norris once challenged Lance Armstrong i...</td>\n",
       "    </tr>\n",
       "    <tr>\n",
       "      <th>8</th>\n",
       "      <td>14</td>\n",
       "      <td>There are no steroids in baseball. Just player...</td>\n",
       "    </tr>\n",
       "    <tr>\n",
       "      <th>9</th>\n",
       "      <td>15</td>\n",
       "      <td>When Chuck Norris goes to donate blood, he dec...</td>\n",
       "    </tr>\n",
       "  </tbody>\n",
       "</table>\n",
       "</div>"
      ],
      "text/plain": [
       "   id                                               joke\n",
       "0   1  Chuck Norris uses ribbed condoms inside out, s...\n",
       "1   2  MacGyver can build an airplane out of gum and ...\n",
       "2   3  Chuck Norris doesn't read books. He stares the...\n",
       "3   4  If you ask Chuck Norris what time it is, he al...\n",
       "4   5  Chuck Norris lost his virginity before his dad...\n",
       "5   6  Since 1940, the year Chuck Norris was born, ro...\n",
       "6  12          Chuck Norris sheds his skin twice a year.\n",
       "7  13  Chuck Norris once challenged Lance Armstrong i...\n",
       "8  14  There are no steroids in baseball. Just player...\n",
       "9  15  When Chuck Norris goes to donate blood, he dec..."
      ]
     },
     "execution_count": 16,
     "metadata": {},
     "output_type": "execute_result"
    }
   ],
   "source": [
    "df.head(n=10) "
   ]
  },
  {
   "cell_type": "code",
   "execution_count": 17,
   "metadata": {},
   "outputs": [
    {
     "name": "stdout",
     "output_type": "stream",
     "text": [
      "Chuck Norris uses ribbed condoms inside out, so he gets the pleasure.\n"
     ]
    }
   ],
   "source": [
    "print(df.iloc[0][1])"
   ]
  },
  {
   "cell_type": "code",
   "execution_count": 18,
   "metadata": {},
   "outputs": [
    {
     "name": "stdout",
     "output_type": "stream",
     "text": [
      "Chuck Norris doesn't shower, he only takes blood baths.\n"
     ]
    }
   ],
   "source": [
    "print(df.iloc[15][1])"
   ]
  }
 ],
 "metadata": {
  "kernelspec": {
   "display_name": "Python 3",
   "language": "python",
   "name": "python3"
  },
  "language_info": {
   "codemirror_mode": {
    "name": "ipython",
    "version": 3
   },
   "file_extension": ".py",
   "mimetype": "text/x-python",
   "name": "python",
   "nbconvert_exporter": "python",
   "pygments_lexer": "ipython3",
   "version": "3.8.5"
  }
 },
 "nbformat": 4,
 "nbformat_minor": 4
}
