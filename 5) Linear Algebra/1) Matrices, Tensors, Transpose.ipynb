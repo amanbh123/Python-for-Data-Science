{
 "cells": [
  {
   "cell_type": "markdown",
   "metadata": {},
   "source": [
    "### 1. Scalars & Vectors\n",
    "#### Scalar\n",
    "- It is a single number. eg. x = 5.6\n",
    "\n",
    "#### Vector\n",
    "- It is an array of scalars.\n",
    "- Thus a vector has n scalars."
   ]
  },
  {
   "cell_type": "code",
   "execution_count": 1,
   "metadata": {},
   "outputs": [],
   "source": [
    "import numpy as np"
   ]
  },
  {
   "cell_type": "code",
   "execution_count": 2,
   "metadata": {},
   "outputs": [
    {
     "name": "stdout",
     "output_type": "stream",
     "text": [
      "[[1]\n",
      " [2]\n",
      " [3]]\n",
      "(3, 1)\n"
     ]
    }
   ],
   "source": [
    "# Creating a column vector\n",
    "x = np.array([[1], [2], [3]])\n",
    "print(x)\n",
    "print(x.shape)"
   ]
  },
  {
   "cell_type": "markdown",
   "metadata": {},
   "source": [
    "### 2. Marices & Tensors\n",
    "#### Matrix\n",
    "- It is a 2D array of scalars\n",
    "- Each individual element of a matrix is a scalar.\n",
    "- If no. of rows = no. of columns, then such a matrix is called a square matrix.\n",
    "\n",
    "#### Tensor\n",
    "- It is an array with more than 2 axes.\n",
    "- We can think of Tensor as a generalization of an array with more than 2 axes."
   ]
  },
  {
   "cell_type": "code",
   "execution_count": 3,
   "metadata": {},
   "outputs": [
    {
     "name": "stdout",
     "output_type": "stream",
     "text": [
      "[[ 1  2  3  4]\n",
      " [ 5  6  7  8]\n",
      " [ 8  9 10 11]]\n",
      "(3, 4)\n",
      "[[ 1  2  3  4  5  6]\n",
      " [ 7  8  8  9 10 11]]\n",
      "(2, 6)\n"
     ]
    }
   ],
   "source": [
    "# Creating a Matrix\n",
    "x = np.array([[1, 2, 3, 4], [5, 6, 7, 8], [8, 9, 10, 11]])\n",
    "print(x)\n",
    "print(x.shape)\n",
    "\n",
    "y = x.reshape((2, -1))\n",
    "print(y)\n",
    "print(y.shape)"
   ]
  },
  {
   "cell_type": "code",
   "execution_count": 4,
   "metadata": {},
   "outputs": [
    {
     "name": "stdout",
     "output_type": "stream",
     "text": [
      "[[[1 1 1]\n",
      "  [1 1 1]\n",
      "  [1 1 1]\n",
      "  [1 1 1]]\n",
      "\n",
      " [[1 1 1]\n",
      "  [1 1 1]\n",
      "  [1 1 1]\n",
      "  [1 1 1]]\n",
      "\n",
      " [[1 1 1]\n",
      "  [1 1 1]\n",
      "  [1 1 1]\n",
      "  [1 1 1]]]\n"
     ]
    }
   ],
   "source": [
    "# Creating a Tensor\n",
    "T = np.ones((3, 4, 3), dtype = np.int8)\n",
    "print(T)"
   ]
  },
  {
   "cell_type": "code",
   "execution_count": 5,
   "metadata": {},
   "outputs": [
    {
     "data": {
      "image/png": "[encoded data removed]",
      "text/plain": [
       "<Figure size 432x288 with 1 Axes>"
      ]
     },
     "metadata": {
      "needs_background": "light"
     },
     "output_type": "display_data"
    }
   ],
   "source": [
    "import matplotlib.pyplot as plt\n",
    "T = np.zeros((5, 4, 3), dtype = np.uint8)\n",
    "T[ : , : , 1] = 255\n",
    "plt.imshow(T)\n",
    "plt.show()"
   ]
  },
  {
   "cell_type": "markdown",
   "metadata": {},
   "source": [
    "### 3.Transpose\n",
    "- For a 2D matrix transpose can be obtained by converting rows into columns and vice-versa.\n",
    "- For a vector, transpose makes the column vector into a row."
   ]
  },
  {
   "cell_type": "code",
   "execution_count": 6,
   "metadata": {},
   "outputs": [
    {
     "data": {
      "text/plain": [
       "array([[ 1,  2,  3,  4],\n",
       "       [ 5,  6,  7,  8],\n",
       "       [ 8,  9, 10, 11]])"
      ]
     },
     "execution_count": 6,
     "metadata": {},
     "output_type": "execute_result"
    }
   ],
   "source": [
    "x"
   ]
  },
  {
   "cell_type": "code",
   "execution_count": 7,
   "metadata": {},
   "outputs": [
    {
     "name": "stdout",
     "output_type": "stream",
     "text": [
      "[[ 1  5  8]\n",
      " [ 2  6  9]\n",
      " [ 3  7 10]\n",
      " [ 4  8 11]]\n"
     ]
    }
   ],
   "source": [
    "x1 = x.T\n",
    "print(x1)"
   ]
  },
  {
   "cell_type": "code",
   "execution_count": 8,
   "metadata": {},
   "outputs": [
    {
     "name": "stdout",
     "output_type": "stream",
     "text": [
      "(50, 25, 3)\n",
      "(50, 3, 25)\n"
     ]
    }
   ],
   "source": [
    "# Transpose of a Tensor\n",
    "T = np.zeros((50, 25, 3), dtype = 'uint8')\n",
    "print(T.shape)\n",
    "T1 = np.transpose(T, axes = (0, 2, 1))\n",
    "print(T1.shape)"
   ]
  }
 ],
 "metadata": {
  "kernelspec": {
   "display_name": "Python 3",
   "language": "python",
   "name": "python3"
  },
  "language_info": {
   "codemirror_mode": {
    "name": "ipython",
    "version": 3
   },
   "file_extension": ".py",
   "mimetype": "text/x-python",
   "name": "python",
   "nbconvert_exporter": "python",
   "pygments_lexer": "ipython3",
   "version": "3.8.5"
  }
 },
 "nbformat": 4,
 "nbformat_minor": 4
}
