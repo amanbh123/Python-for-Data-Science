{
 "cells": [
  {
   "cell_type": "markdown",
   "metadata": {},
   "source": [
    "## Scrapy\n",
    "- An open source and collaborative framework for extracting the data we need from websites.\n",
    "\n",
    "\n",
    "- With the help of Scrapy one can :\n",
    "  1. Fetch millions of data efficiently\n",
    "  2. Run it on server\n",
    "  3. Run spider in multiple processes"
   ]
  },
  {
   "cell_type": "markdown",
   "metadata": {},
   "source": [
    "## Installation\n",
    "### Scrapy\n",
    "pip install scrapy"
   ]
  },
  {
   "cell_type": "markdown",
   "metadata": {},
   "source": [
    "Dependency - Microsoft Visual C++ Build Tools(http://go.microsoft.com/fwlink/?LinkId=691126&fixForIE=.exe)\n",
    "\n",
    "\n",
    "If we get an error, due to rc.exe we can refer to the following link : https://stackoverflow.com/questions/43858836/python-installing-clarifai-vs14-0-link-exe-failed-with-exit-status-1158"
   ]
  },
  {
   "cell_type": "code",
   "execution_count": 2,
   "metadata": {},
   "outputs": [
    {
     "name": "stdout",
     "output_type": "stream",
     "text": [
      "New Scrapy project 'myproject', using template directory 'c:\\users\\ak960\\lib\\site-packages\\scrapy\\templates\\project', created in:\n",
      "    C:\\Users\\ak960\\Data Science Master\\Python for Data Science\\3) Data Acquisition - Web Crawler using Scrapy\\myproject\n",
      "\n",
      "You can start your first spider with:\n",
      "    cd myproject\n",
      "    scrapy genspider example example.com\n"
     ]
    }
   ],
   "source": [
    "!scrapy startproject myproject"
   ]
  }
 ],
 "metadata": {
  "kernelspec": {
   "display_name": "Python 3",
   "language": "python",
   "name": "python3"
  },
  "language_info": {
   "codemirror_mode": {
    "name": "ipython",
    "version": 3
   },
   "file_extension": ".py",
   "mimetype": "text/x-python",
   "name": "python",
   "nbconvert_exporter": "python",
   "pygments_lexer": "ipython3",
   "version": "3.8.5"
  }
 },
 "nbformat": 4,
 "nbformat_minor": 4
}
